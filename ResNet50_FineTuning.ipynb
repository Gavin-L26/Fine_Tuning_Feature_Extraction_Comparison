{
  "nbformat": 4,
  "nbformat_minor": 0,
  "metadata": {
    "colab": {
      "name": "ResNet50_FineTuning.ipynb",
      "provenance": [],
      "collapsed_sections": [],
      "machine_shape": "hm"
    },
    "kernelspec": {
      "name": "python3",
      "display_name": "Python 3"
    },
    "language_info": {
      "name": "python"
    },
    "accelerator": "GPU"
  },
  "cells": [
    {
      "cell_type": "code",
      "source": [
        "from google.colab import drive\n",
        "\n",
        "drive.mount('/content/drive')"
      ],
      "metadata": {
        "colab": {
          "base_uri": "https://localhost:8080/"
        },
        "id": "BIbvjN6j3y69",
        "outputId": "b4e89b57-3e6c-4bff-aeb9-7fc0049f5d10"
      },
      "execution_count": null,
      "outputs": [
        {
          "output_type": "stream",
          "name": "stdout",
          "text": [
            "Drive already mounted at /content/drive; to attempt to forcibly remount, call drive.mount(\"/content/drive\", force_remount=True).\n"
          ]
        }
      ]
    },
    {
      "cell_type": "markdown",
      "source": [
        "## Data Preprocess"
      ],
      "metadata": {
        "id": "fKZGYpZz4MP5"
      }
    },
    {
      "cell_type": "code",
      "execution_count": null,
      "metadata": {
        "id": "mJWSHYEMpJEN"
      },
      "outputs": [],
      "source": [
        "import numpy as np\n",
        "import pandas as pd\n",
        "import seaborn as sns\n",
        "import matplotlib.pyplot as plt\n",
        "%matplotlib inline\n",
        "\n",
        "import cv2\n",
        "import skimage\n",
        "from skimage.transform import resize\n",
        "\n",
        "import os\n",
        "import torch\n",
        "import torch.nn as nn\n",
        "import torchvision\n",
        "from torchvision import models\n",
        "from sklearn.model_selection import train_test_split\n",
        "\n",
        "import tensorflow as tf\n",
        "from tensorflow import keras\n",
        "from tensorflow.keras.utils import to_categorical"
      ]
    },
    {
      "cell_type": "code",
      "source": [
        "# !unzip -uq \"/content/drive/My Drive/ASL_Data.zip\"\n",
        "!unzip -o \"/content/drive/My Drive/ASL_Data.zip\" | awk 'BEGIN {ORS=\" \"} {if(NR%10==0)print \".\"}'"
      ],
      "metadata": {
        "colab": {
          "base_uri": "https://localhost:8080/"
        },
        "id": "QRaA5V6DHy4Y",
        "outputId": "4f9d466c-9b18-4f6b-f7a8-f80b2becb954"
      },
      "execution_count": null,
      "outputs": [
        {
          "output_type": "stream",
          "name": "stdout",
          "text": [
            ". . . . . . . . . . . . . . . . . . . . . . . . . . . . . . . . . . . . . . . . . . . . . . . . . . . . . . . . . . . . . . . . . . . . . . . . . . . . . . . . . . . . . . . . . . . . . . . . . . . . . . . . . . . . . . . . . . . . . . . . . . . . . . . . . . . . . . . . . . . . . . . . . . . . . . . . . . . . . . . . . . . . . . . . . . . . . . . . . . . . . . . . . . . . . . . . . . . . . . . . . . . . . . . . . . . . . . . . . . . . . . . . . . . . . . . . . . . . . . . . . . . . . . . . . . . . . . . . . . . . . . . . . . . . . . . . . . . . . . . . . . . . . . . . . . . . . . . . . . . . . . . . . . . . . . . . . . . . . . . . . . . . . . . . . . . . . . . . . . . . . . . . . . . . . . . . . . . . . . . . . . . . . . . . . . . . . . . . . . . . . . . . . . . . . . . . . . . . . . . . . . . . . . . . . . . . . . . . . . . . . . . . . . . . . . . . . . . . . . . . . . . . . . . . . . . . . . . . . . . . . . . . . . . . . . . . . . . . . . . . . . . . . . . . . . . . . . . . . . . . . . . . . . . . . . . . . . . . . . . . . . . . . . . . . . . . . . . . . . . . . . . . . . . . . . . . . . . . . . . . . . . . . . . . . . . . . . . . . . . . . . . . . . . . . . . . . . . . . . . . . . . . . . . . . . . . . . . . . . . . . . . . . . . . . . . . . . . . . . . . . . . . . . . . . . . . . . . . . . . . . . . . . . . . . . . . . . . . . . . . . . . . . . . . . . . . . . . . . . . . . . . . . . . . . . . . . . . . . . . . . . . . . . . . . . . . . . . . . . . . . . . . . . . . . . . . . . . . . . . . . . . . . . . . . . . . . . . . . . . . . . . . . . . . . . . . . . . . . . . . . . . . . . . . . . . . . . . . . . . . . . . . . . . . . . . . . . . . . . . . . . . . . . . . . . . . . . . . . . . . . . . . . . . . . . . . . . . . . . . . . . . . . . . . . . . . . . . . . . . . . . . . . . . . . . . . . . . . . . . . . . . . . . . . . . . . . . . . . . . . . . . . . . . . . . . . . . . . . . . . . . . . . . . . . . . . . . . . . . . . . . . . . . . . . . . . . . . . . . . . . . . . . . . . . . . . . . . . . . . . . . . . . . . . . . . . . . . . . . . . . . . . . . . . . . . . . . . . . . . . . . . . . . . . . . . . . . . . . . . . . . . . . . . . . . . . . . . . . . . . . . . . . . . . . . . . . . . . . . . . . . . . . . . . . . . . . . . . . . . . . . . . . . . . . . . . . . . . . . . . . . . . . . . . . . . . . . . . . . . . . . . . . . . . . . . . . . . . . . . . . . . . . . . . . . . . . . . . . . . . . . . . . . . . . . . . . . . . . . . . . . . . . . . . . . . . . . . . . . . . . . . . . . . . . . . . . . . . . . . . . . . . . . . . . . . . . . . . . . . . . . . . . . . . . . . . . . . . . . . . . . . . . . . . . . . . . . . . . . . . . . . . . . . . . . . . . . . . . . . . . . . . . . . . . . . . . . . . . . . . . . . . . . . . . . . . . . . . . . . . . . . . . . . . . . . . . . . . . . . . . . . . . . . . . . . . . . . . . . . . . . . . . . . . . . . . . . . . . . . . . . . . . . . . . . . . . . . . . . . . . . . . . . . . . . . . . . . . . . . . . . . . . . . . . . . . . . . . . . . . . . . . . . . . . . . . . . . . . . . . . . . . . . . . . . . . . . . . . . . . . . . . . . . . . . . . . . . . . . . . . . . . . . . . . . . . . . . . . . . . . . . . . . . . . . . . . . . . . . . . . . . . . . . . . . . . . . . . . . . . . . . . . . . . . . . . . . . . . . . . . . . . . . . . . . . . . . . . . . . . . . . . . . . . . . . . . . . . . . . . . . . . . . . . . . . . . . . . . . . . . . . . . . . . . . . . . . . . . . . . . . . . . . . . . . . . . . . . . . . . . . . . . . . . . . . . . . . . . . . . . . . . . . . . . . . . . . . . . . . . . . . . . . . . . . . . . . . . . . . . . . . . . . . . . . . . . . . . . . . . . . . . . . . . . . . . . . . . . . . . . . . . . . . . . . . . . . . . . . . . . . . . . . . . . . . . . . . . . . . . . . . . . . . . . . . . . . . . . . . . . . . . . . . . . . . . . . . . . . . . . . . . . . . . . . . . . . . . . . . . . . . . . . . . . . . . . . . . . . . . . . . . . . . . . . . . . . . . . . . . . . . . . . . . . . . . . . . . . . . . . . . . . . . . . . . . . . . . . . . . . . . . . . . . . . . . . . . . . . . . . . . . . . . . . . . . . . . . . . . . . . . . . . . . . . . . . . . . . . . . . . . . . . . . . . . . . . . . . . . . . . . . . . . . . . . . . . . . . . . . . . . . . . . . . . . . . . . . . . . . . . . . . . . . . . . . . . . . . . . . . . . . . . . . . . . . . . . . . . . . . . . . . . . . . . . . . . . . . . . . . . . . . . . . . . . . . . . . . . . . . . . . . . . . . . . . . . . . . . . . . . . . . . . . . . . . . . . . . . . . . . . . . . . . . . . . . . . . . . . . . . . . . . . . . . . . . . . . . . . . . . . . . . . . . . . . . . . . . . . . . . . . . . . . . . . . . . . . . . . . . . . . . . . . . . . . . . . . . . . . . . . . . . . . . . . . . . . . . . . . . . . . . . . . . . . . . . . . . . . . . . . . . . . . . . . . . . . . . . . . . . . . . . . . . . . . . . . . . . . . . . . . . . . . . . . . . . . . . . . . . . . . . . . . . . . . . . . . . . . . . . . . . . . . . . . . . . . . . . . . . . . . . . . . . . . . . . . . . . . . . . . . . . . . . . . . . . . . . . . . . . . . . . . . . . . . . . . . . . . . . . . . . . . . . . . . . . . . . . . . . . . . . . . . . . . . . . . . . . . . . . . . . . . . . . . . . . . . . . . . . . . . . . . . . . . . . . . . . . . . . . . . . . . . . . . . . . . . . . . . . . . . . . . . . . . . . . . . . . . . . . . . . . . . . . . . . . . . . . . . . . . . . . . . . . . . . . . . . . . . . . . . . . . . . . . . . . . . . . . . . . . . . . . . . . . . . . . . . . . . . . . . . . . . . . . . . . . . . . . . . . . . . . . . . . . . . . . . . . . . . . . . . . . . . . . . . . . . . . . . . . . . . . . . . . . . . . . . . . . . . . . . . . . . . . . . . . . . . . . . . . . . . . . . . . . . . . . . . . . . . . . . . . . . . . . . . . . . . . . . . . . . . . . . . . . . . . . . . . . . . . . . . . . . . . . . . . . . . . . . . . . . . . . . . . . . . . . . . . . . . . . . . . . . . . . . . . . . . . . . . . . . . . . . . . . . . . . . . . . . . . . . . . . . . . . . . . . . . . . . . . . . . . . . . . . . . . . . . . . . . . . . . . . . . . . . . . . . . . . . . . . . . . . . . . . . . . . . . . . . . . . . . . . . . . . . . . . . . . . . . . . . . . . . . . . . . . . . . . . . . . . . . . . . . . . . . . . . . . . . . . . . . . . . . . . . . . . . . . . . . . . . . . . . . . . . . . . . . . . . . . . . . . . . . . . . . . . . . . . . . . . . . . . . . . . . . . . . . . . . . . . . . . . . . . . . . . . . . . . . . . . . . . . . . . . . . . . . . . . . . . . . . . . . . . . . . . . . . . . . . . . . . . . . . . . . . . . . . . . . . . . . . . . . . . . . . . . . . . . . . . . . . . . . . . . . . . . . . . . . . . . . . . . . . . . . . . . . . . . . . . . . . . . . . . . . . . . . . . . . . . . . . . . . . . . . . . . . . . . . . . . . . . . . . . . . . . . . . . . . . . . . . . . . . . . . . . . . . . . . . . . . . . . . . . . . . . . . . . . . . . . . . . . . . . . . . . . . . . . . . . . . . . . . . . . . . . . . . . . . . . . . . . . . . . . . . . . . . . . . . . . . . . . . . . . . . . . . . . . . . . . . . . . . . . . . . . . . . . . . . . . . . . . . . . . . . . . . . . . . . . . . . . . . . . . . . . . . . . . . . . . . . . . . . . . . . . . . . . . . . . . . . . . . . . . . . . . . . . . . . . . . . . . . . . . . . . . . . . . . . . . . . . . . . . . . . . . . . . . . . . . . . . . . . . . . . . . . . . . . . . . . . . . . . . . . . . . . . . . . . . . . . . . . . . . . . . . . . . . . . . . . . . . . . . . . . . . . . . . . . . . . . . . . . . . . . . . . . . . . . . . . . . . . . . . . . . . . . . . . . . . . . . . . . . . . . . . . . . . . . . . . . . . . . . . . . . . . . . . . . . . . . . . . . . . . . . . . . . . . . . . . . . . . . . . . . . . . . . . . . . . . . . . . . . . . . . . . . . . . . . . . . . . . . . . . . . . . . . . . . . . . . . . . . . . . . . . . . . . . . . . . . . . . . . . . . . . . . . . . . . . . . . . . . . . . . . . . . . . . . . . . . . . . . . . . . . . . . . . . . . . . . . . . . . . . . . . . . . . . . . . . . . . . . . . . . . . . . . . . . . . . . . . . . . . . . . . . . . . . . . . . . . . . . . . . . . . . . . . . . . . . . . . . . . . . . . . . . . . . . . . . . . . . . . . . . . . . . . . . . . . . . . . . . . . . . . . . . . . . . . . . . . . . . . . . . . . . . . . . . . . . . . . . . . . . . . . . . . . . . . . . . . . . . . . . . . . . . . . . . . . . . . . . . . . . . . . . . . . . . . . . . . . . . . . . . . . . . . . . . . . . . . . . . . . . . . . . . . . . . . . . . . . . . . . . . . . . . . . . . . . . . . . . . . . . . . . . . . . . . . . . . . . . . . . . . . . . . . . . . . . . . . . . . . . . . . . . . . . . . . . . . . . . . . . . . . . . . . . . . . . . . . . . . . . . . . . . . . . . . . . . . . . . . . . . . . . . . . . . . . . . . . . . . . . . . . . . . . . . . . . . . . . . . . . . . . . . . . . . . . . . . . . . . . . . . . . . . . . . . . . . . . . . . . . . . . . . . . . . . . . . . . . . . . . . . . . . . . . . . . . . . . . . . . . . . . . . . . . . . . . . . . . . . . . . . . . . . . . . . . . . . . . . . . . . . . . . . . . . . . . . . . . . . . . . . . . . . . . . . . . . . . . . . . . . . . . . . . . . . . . . . . . . . . . . . . . . . . . . . . . . . . . . . . . . . . . . . . . . . . . . . . . . . . . . . . . . . . . . . . . . . . . . . . . . . . . . . . . . . . . . . . . . . . . . . . . . . . . . . . . . . . . . . . . . . . . . . . . . . . . . . . . . . . . . . . . . . . . . . . . . . . . . . . . . . . . . . . . . . . . . . . . . . . . . . . . . . . . . . . . . . . . . . . . . . . . . . . . . . . . . . . . . . . . . . . . . . . . . . . . . . . . . . . . . . . . . . . . . . . . . . . . . . . . . . . . . . . . . . . . . . . . . . . . . . . . . . . . . . . . . . . . . . . . . . . . . . . . . . . . . . . . . . . . . . . . . . . . . . . . . . . . . . . . . . . . . . . . . . . . . . . . . . . . . . . . . . . . . . . . . . . . . . . . . . . . . . . . . . . . . . . . . . . . . . . . . . . . . . . . . . . . . . . . . . . . . . . . . . . . . . . . . . . . . . . . . . . . . . . . . . . . . . . . . . . . . . . . . . . . . . . . . . . . . . . . . . . . . . . . . . . . . . . . . . . . . . . . . . . . . . . . . . . . . . . . . . . . . . . . . . . . . . . . . . . . . . . . . . . . . . . . . . . . . . . . . . . . . . . . . . . . . . . . . . . . . . . . . . . . . . . . . . . . . . . . . . . . . . . . . . . . . . . . . . . . . . . . . . . . . . . . . . . . . . . . . . . . . . . . . . . . . . . . . . . . . . . . . . . . . . . . . . . . . . . . . . . . . . . . . . . . . . . . . . . . . . . . . . . . . . . . . . . . . . . . . . . . . . . . . . . . . . . . . . . . . . . . . . . . . . . . . . . . . . . . . . . . . . . . . . . . . . . . . . . . . . . . . . . . . . . . . . . . . . . . . . . . . . . . . . . . . . . . . . . . . . . . . . . . . . . . . . . . . . . . . . . . . . . . . . . . . . . . . . . . . . . . . . . . . . . . . . . . . . . . . . . . . . . . . . . . . . . . . . . . . . . . . . . . . . . . . . . . . . . . . . . . . . . . . . . . . . . . . . . . . . . . . . . . . . . . . . . . . . . . . . . . . . . . . . . . . . . . . . . . . . . . . . . . . . . . . . . . . . . . . . . . . . . . . . . . . . . . . . . . . . . . . . . . . . . . . . . . . . . . . . . . . . . . . . . . . . . . . . . . . . . . . . . . . . . . . . . . . . . . . . . . . . . . . . . . . . . . . . . . . . . . . . . . . . . . . . . . . . . . . . . . . . . . . . . . . . . . . . . . . . . . . . . . . . . . . . . . . . . . . . . . . . . . . . . . . . . . . . . . . . . . . . . . . . . . . . . . . . . . . . . . . . . . . . . . . . . . . . . . . . . . . . . . . . . . . . . . . . . . . . . . . . . . . . . . . . . . . . . . . . . . . . . . . . . . . . . . . . . . . . . . . . . . . . . . . . . . . . . . . . . . . . . . . . . . . . . . . . . . . . . . . . . . . . . . . . . . . . . . . . . . . . . . . . . . . . . . . . . . . . . . . . . . . . . . . . . . . . . . . . . . . . . . . . . . . . . . . . . . . . . . . . . . . . . . . . . . . . . . . . . . . . . . . . . . . . . . . . . . . . . . . . . . . . . . . . . . . . . . . . . . . . . . . . . . . . . . . . . . . . . . . . . . . . . . . . . . . . . . . . . . . . . . . . . . . . . . . . . . . . . . . . . . . . . . . . . . . . . . . . . . . . . . . . . . . . . . . . . . . . . . . . . . . . . . . . . . . . . . . . . . . . . . . . . . . . . . . . . . . . . . . . . . . . . . . . . . . . . . . . . . . . . . . . . . . . . . . . . . . . . . . . . . . . . . . . . . . . . . . . . . . . . . . . . . . . . . . . . . . . . . . . . . . . . . . . . . . . . . . . . . . . . . . . . . . . . . . . . . . . . . . . . . . . . . . . . . . . . . . . . . . . . . . . . . . . . . . . . . . . . . . . . . . . . . . . . . . . . . . . . . . . . . . . . . . . . . . . . . . . . . . . . . . . . . . . . . . . . . . . . . . . . . . . . . . . . . . . . . . . . . . . . . . . . . . . . . . . . . . . . . . . . . . . . . . . . . . . . . . . . . . . . . . . . . . . . . . . . . . . . . . . . . . . . . . . . . . . . . . . . . . . . . . . . . . . . . . . . . . . . . . . . . . . . . . . . . . . . . . . . . . . . . . . . . . . . . . . . . . . . . . . . . . . . . . . . . . . . . . . . . . . . . . . . . . . . . . . . . . . . . . . . . . . . . . . . . . . . . . . . . . . . . . . . . . . . . . . . . . . . . . . . . . . . . . . . . . . . . . . . . . . . . . . . . . . . . . . . . . . . . . . . . . . . . . . . . . . . . . . . . . . . . . . . . . . . . . . . . . . . . . . . . . . . . . . . . . . . . . . . . . . . . . . . . . . . . . . . . . . . . . . . . . . . . . . . . . . . . . . . . . . . . . . . . . . . . . . . . . . . . . . . . . . . . . . . . . . . . . . . . . . . . . . . . . . . . . . . . . . . . . . . . . . . . . . . . . . . . . . . . . . . . . . . . . . . . . . . . . . . . . . . . . . . . . . . . . . . . . . . . . . . . . . . . . . . . . . . . . . . . . . . . . . . . . . . . . . . . . . . . . . . . . . . . . . . . . . . . . . . . . . . . . . . . . . . . . . . . . . . . . . . . . . . . . . . . . . . . . . . . . . . . . . . . . . . . . . . . . . . . . . . . . . . . . . . . . . . . . . . . . . . . . . . . . . . . . . . . . . . . . . . . . . . . . . . . . . . . . . . . . . . . . . . . . . . . . . . . . . . . . . . . . . . . . . . . . . . . . . . . . . . . . . . . . . . . . . . . . . . . . . . . . . . . . . . . . . . . . . . . . . . . . . . . . . . . . . . . . . . . . . . . . . . . . . . . . . . . . . . . . . . . . . . . . . . . . . . . . . . . . . . . . . . . . . . . . . . . . . . . . . . . . . . . . . . . . . . . . . . . . . . . . . . . . . . . . . . . . . . . . . . . . . . . . . . . . . . . . . . . . . . . . . . . . . . . . . . . . . . . . . . . . . . . . . . . . . . . . . . . . . . . . . . . . . . . . . . . . . . . . . . . . . . . . . . . . . . . . . . . . . . . . . . . . . . . . . . . . . . . . . . . . . . . . . . . . . . . . . . . . . . . . . . . . . . . . . . . . . . . . . . . . . . . . . . . . . . . . . . . . . . . . . . . . . . . . . . . . . . . . . . . . . . . . . . . . . . . . . . . . . . . . . . . . . . . . . . . . . . . . . . . . . . . . . . . . . . . . . . . . . . . . . . . . . . . . . . . . . . . . . . . . . . . . . . . . . . . . . . . . . . . . . . . . . . . . . . . . . . . . . . . . . . . . . . . . . . . . . . . . . . . . . . . . . . . . . . . . . . . . . . . . . . . . . . . . . . . . . . . . . . . . . . . . . . . . . . . . . . . . . . . . . . . . . . . . . . . . . . . . . . . . . . . . . . . . . . . . . . . . . . . . . . . . . . . . . . . . . . . . . . . . . . . . . . . . . . . . . . . . . . . . . . . . . . . . . . . . . . . . . . . . . . . . . . . . . . . . . . . . . . . . . . . . . . . . . . . . . . . . . . . . . . . . . . . . . . . . . . . . . . . . . . . . . . . . . . . . . . . . . . . . . . . . . . . . . . . . . . . . . . . . . . . . . . . . . . . . . . . . . . . . . . . . . . . . . . . . . . . . . . . . . . . . . . . . . . . . . . . . . . . . . . . . . . . . . . . . . . . . . . . . . . . . . . . . . . . . . . . . . . . . . . . . . . . . . . . . . . . . . . . . . . . . . . . . . . . . . . . . . . . . . . . . . . . . . . . . . . . . . . . . . . . . . . . . . . . . . . . . . . . . . . . . . . . . . . . . . . . . . . . . . . . . . . . . . . . . . . . . . . . . . . . . . . . . . . . . . . . . . . . . . . . . . . . . . . . . . . . . . . . . . . . . . . . . . . . . . . . . . . . . . . . . . . . . . . . . . . . . . . . . . . . . . . . . . . . . . . . . . . . . . . . . . . . . . . . . . . . . . . . . . . . . . . . . . . . . . . . . . . . . . . . . . . . . . . . . . . . . . . . . . . . . . . . . . . . . . . . . . . . . . . . . . . . . . . . . . . . . . . . . . . . . . . . . . . . . . . . . . . . . . . . . . . . . . . . . . . . . . . . . . . . . . . . . . . . . . . . . . . . . . . . . . . . . . . . . . . . . . . . . . . . . . . . . . . . . . . . . . . . . . . . . . . . . . . . . . . . . . . . . . . . . . . . . . . . . . . . . . . . . . . . . . . . . . . . . . . . . . . . . . . . . . . . . . . . . . . . . . . . . . . . . . . . . . . . . . . . . . . . . . . . . . . . . . . . . . . . . . . . . . . . . . . . . . . . . . . . . . . . . . . . . . . . . . . . . . . . . . . . . . . . . . . . . . . . . . . . . . . . . . . . . . . . . . . . . . . . . . . . . . . . . . . . . . . . . . . . . . . . . . . . . . . . . . . . . . . . . . . . . . . . . . . . . . . . . . . . . . . "
          ]
        }
      ]
    },
    {
      "cell_type": "code",
      "source": [
        "batch_size = 10\n",
        "imageSize = 76\n",
        "target_dims = (imageSize, imageSize, 3)\n",
        "num_classes = 29\n",
        "\n",
        "train_len = 87000\n",
        "train_dir = '/content/asl_alphabet_train/asl_alphabet_train/'"
      ],
      "metadata": {
        "id": "anCGjn9ILcVz"
      },
      "execution_count": null,
      "outputs": []
    },
    {
      "cell_type": "code",
      "source": [
        "def get_data(folder):\n",
        "    X = np.empty((train_len, imageSize, imageSize, 3), dtype=np.float32)\n",
        "    y = np.empty((train_len,), dtype=np.int64)\n",
        "    cnt = 0\n",
        "    for folderName in os.listdir(folder):\n",
        "        if not folderName.startswith('.'):\n",
        "            if folderName in ['A']:\n",
        "                label = 0\n",
        "            elif folderName in ['B']:\n",
        "                label = 1\n",
        "            elif folderName in ['C']:\n",
        "                label = 2\n",
        "            elif folderName in ['D']:\n",
        "                label = 3\n",
        "            elif folderName in ['E']:\n",
        "                label = 4\n",
        "            elif folderName in ['F']:\n",
        "                label = 5\n",
        "            elif folderName in ['G']:\n",
        "                label = 6\n",
        "            elif folderName in ['H']:\n",
        "                label = 7\n",
        "            elif folderName in ['I']:\n",
        "                label = 8\n",
        "            elif folderName in ['J']:\n",
        "                label = 9\n",
        "            elif folderName in ['K']:\n",
        "                label = 10\n",
        "            elif folderName in ['L']:\n",
        "                label = 11\n",
        "            elif folderName in ['M']:\n",
        "                label = 12\n",
        "            elif folderName in ['N']:\n",
        "                label = 13\n",
        "            elif folderName in ['O']:\n",
        "                label = 14\n",
        "            elif folderName in ['P']:\n",
        "                label = 15\n",
        "            elif folderName in ['Q']:\n",
        "                label = 16\n",
        "            elif folderName in ['R']:\n",
        "                label = 17\n",
        "            elif folderName in ['S']:\n",
        "                label = 18\n",
        "            elif folderName in ['T']:\n",
        "                label = 19\n",
        "            elif folderName in ['U']:\n",
        "                label = 20\n",
        "            elif folderName in ['V']:\n",
        "                label = 21\n",
        "            elif folderName in ['W']:\n",
        "                label = 22\n",
        "            elif folderName in ['X']:\n",
        "                label = 23\n",
        "            elif folderName in ['Y']:\n",
        "                label = 24\n",
        "            elif folderName in ['Z']:\n",
        "                label = 25\n",
        "            elif folderName in ['del']:\n",
        "                label = 26\n",
        "            elif folderName in ['nothing']:\n",
        "                label = 27\n",
        "            elif folderName in ['space']:\n",
        "                label = 28           \n",
        "            else:\n",
        "                label = 29\n",
        "            for image_filename in os.listdir(folder + folderName):\n",
        "                img_file = cv2.imread(folder + folderName + '/' + image_filename)\n",
        "                if img_file is not None:\n",
        "                    img_file = skimage.transform.resize(img_file, (imageSize, imageSize, 3))\n",
        "                    img_arr = np.asarray(img_file).reshape((-1, imageSize, imageSize, 3))\n",
        "                    \n",
        "                    X[cnt] = img_arr\n",
        "                    y[cnt] = label\n",
        "                    cnt += 1\n",
        "    return X,y"
      ],
      "metadata": {
        "id": "6BXtpAHyLoGl"
      },
      "execution_count": null,
      "outputs": []
    },
    {
      "cell_type": "code",
      "source": [
        "X_train, y_train = get_data(train_dir)\n",
        "print(\"Images successfully imported...\")"
      ],
      "metadata": {
        "colab": {
          "base_uri": "https://localhost:8080/"
        },
        "id": "pkftXGpJLqAU",
        "outputId": "e99e606e-d717-4764-f38b-0c0491fe0636"
      },
      "execution_count": null,
      "outputs": [
        {
          "output_type": "stream",
          "name": "stdout",
          "text": [
            "Images successfully imported...\n"
          ]
        }
      ]
    },
    {
      "cell_type": "code",
      "source": [
        "# train = pd.read_csv(\"/content/drive/MyDrive/archive/sign_mnist_train/sign_mnist_train.csv\")\n",
        "# test = pd.read_csv(\"/content/drive/MyDrive/archive/sign_mnist_test/sign_mnist_test.csv\")"
      ],
      "metadata": {
        "id": "0ccAVZKipK85"
      },
      "execution_count": null,
      "outputs": []
    },
    {
      "cell_type": "code",
      "source": [
        "print(\"The shape of X_train is : \", X_train.shape)\n",
        "print(\"The shape of y_train is : \", y_train.shape)"
      ],
      "metadata": {
        "colab": {
          "base_uri": "https://localhost:8080/"
        },
        "id": "1azLL6sNqBzh",
        "outputId": "8179f8ee-a101-4490-bd14-063aa0ca4f3a"
      },
      "execution_count": null,
      "outputs": [
        {
          "output_type": "stream",
          "name": "stdout",
          "text": [
            "The shape of X_train is :  (87000, 76, 76, 3)\n",
            "The shape of y_train is :  (87000,)\n"
          ]
        }
      ]
    },
    {
      "cell_type": "code",
      "source": [
        "plt.imshow(X_train[0])\n",
        "plt.show()"
      ],
      "metadata": {
        "colab": {
          "base_uri": "https://localhost:8080/",
          "height": 268
        },
        "id": "phMp8nSJOR48",
        "outputId": "01171671-57cf-4b3c-b544-919d33793c14"
      },
      "execution_count": null,
      "outputs": [
        {
          "output_type": "display_data",
          "data": {
            "text/plain": [
              "<Figure size 432x288 with 1 Axes>"
            ],
            "image/png": "[encoded data removed]"
          },
          "metadata": {
            "needs_background": "light"
          }
        }
      ]
    },
    {
      "cell_type": "code",
      "source": [
        "X_train, X_val_test, y_train, y_val_test = train_test_split(X_train, y_train, test_size=0.4,random_state=42,stratify=y_train)\n",
        "X_val, X_test, y_val, y_test = train_test_split(X_val_test, y_val_test, test_size=0.5,random_state=42,stratify=y_val_test)"
      ],
      "metadata": {
        "id": "CGp9mEz5OfsO"
      },
      "execution_count": null,
      "outputs": []
    },
    {
      "cell_type": "code",
      "source": [
        "y_cat_train = to_categorical(y_train,29)\n",
        "y_cat_val = to_categorical(y_val,29)\n",
        "y_cat_test = to_categorical(y_test,29)"
      ],
      "metadata": {
        "id": "z_T6UfbsOuti"
      },
      "execution_count": null,
      "outputs": []
    },
    {
      "cell_type": "code",
      "source": [
        "print(X_train.shape)\n",
        "print(y_train.shape)\n",
        "print(X_val.shape)\n",
        "print(y_val.shape)\n",
        "print(X_test.shape)\n",
        "print(y_test.shape)\n",
        "print(y_cat_train.shape)\n",
        "print(y_cat_val.shape)\n",
        "print(y_cat_test.shape)"
      ],
      "metadata": {
        "colab": {
          "base_uri": "https://localhost:8080/"
        },
        "id": "QgiX6mPZPDYL",
        "outputId": "2d255d76-21d0-41e9-c970-0865194372b4"
      },
      "execution_count": null,
      "outputs": [
        {
          "output_type": "stream",
          "name": "stdout",
          "text": [
            "(52200, 76, 76, 3)\n",
            "(52200,)\n",
            "(17400, 76, 76, 3)\n",
            "(17400,)\n",
            "(17400, 76, 76, 3)\n",
            "(17400,)\n",
            "(52200, 29)\n",
            "(17400, 29)\n",
            "(17400, 29)\n"
          ]
        }
      ]
    },
    {
      "cell_type": "code",
      "source": [
        "print(X_train[0].shape)\n",
        "\n",
        "image = cv2.resize(X_train[0], (299, 299))\n",
        "\n",
        "plt.imshow(image)\n",
        "print(y_train[0])"
      ],
      "metadata": {
        "colab": {
          "base_uri": "https://localhost:8080/",
          "height": 304
        },
        "id": "hUDaGbCVrThA",
        "outputId": "9d05fabc-7a09-4a3c-8472-da631be1cc37"
      },
      "execution_count": null,
      "outputs": [
        {
          "output_type": "stream",
          "name": "stdout",
          "text": [
            "(76, 76, 3)\n",
            "22\n"
          ]
        },
        {
          "output_type": "display_data",
          "data": {
            "text/plain": [
              "<Figure size 432x288 with 1 Axes>"
            ],
            "image/png": "[encoded data removed]"
          },
          "metadata": {
            "needs_background": "light"
          }
        }
      ]
    },
    {
      "cell_type": "code",
      "source": [
        "from tensorflow import keras\n",
        "from tensorflow.keras import layers\n",
        "\n",
        "data_augmentation = keras.Sequential(\n",
        "    [layers.RandomFlip(\"horizontal\"), layers.RandomRotation(0.1),]\n",
        ")"
      ],
      "metadata": {
        "id": "bA1AGS9gA0s9"
      },
      "execution_count": null,
      "outputs": []
    },
    {
      "cell_type": "code",
      "source": [
        "from keras.engine import training\n",
        "from keras.models import Sequential\n",
        "from keras.models import Model\n",
        "from keras.callbacks import ModelCheckpoint, LearningRateScheduler, EarlyStopping, ReduceLROnPlateau, TensorBoard\n",
        "from keras import optimizers, losses, activations, models\n",
        "from keras.layers import Convolution2D, Dense, Input, Flatten, Dropout, MaxPooling2D, BatchNormalization, GlobalAveragePooling2D, Concatenate\n",
        "from keras import applications\n",
        "input_shape = (76, 76, 3)\n",
        "nclass = 29\n",
        "\n",
        "base_model = tf.keras.applications.ResNet50(weights='imagenet', \n",
        "                                include_top=False, \n",
        "                                input_shape=(76, 76,3))\n",
        "base_model.trainable = False\n",
        "\n",
        "inputs = keras.Input(shape=input_shape)\n",
        "x = data_augmentation(inputs)\n",
        "\n",
        "x = base_model(x, training=False)\n",
        "x = keras.layers.GlobalAveragePooling2D()(x)\n",
        "# x = keras.layers.Dropout(0.2)(x)  # Regularize with dropout\n",
        "outputs = keras.layers.Dense(nclass, activation='softmax')(x)\n",
        "model = keras.Model(inputs, outputs)\n",
        "\n",
        "# add_model = Sequential()\n",
        "# add_model.add(base_model)\n",
        "# add_model.add(GlobalAveragePooling2D())\n",
        "# add_model.add(Dropout(0.5))\n",
        "# add_model.add(Dense(nclass, activation='softmax'))\n",
        "# model = add_model\n",
        "model.compile(loss='categorical_crossentropy', optimizer=keras.optimizers.Adam(learning_rate=0.01), metrics=['accuracy'])\n",
        "# model.compile(loss='categorical_crossentropy', optimizer=keras.optimizers.RMSprop(), metrics=['accuracy'])\n",
        "model.summary()"
      ],
      "metadata": {
        "colab": {
          "base_uri": "https://localhost:8080/"
        },
        "id": "2xmnpGRqbZsw",
        "outputId": "c103e5bf-e307-4a33-e1f8-fcda4344e329"
      },
      "execution_count": null,
      "outputs": [
        {
          "output_type": "stream",
          "name": "stdout",
          "text": [
            "Model: \"model\"\n",
            "_________________________________________________________________\n",
            " Layer (type)                Output Shape              Param #   \n",
            "=================================================================\n",
            " input_2 (InputLayer)        [(None, 76, 76, 3)]       0         \n",
            "                                                                 \n",
            " sequential (Sequential)     (None, 76, 76, 3)         0         \n",
            "                                                                 \n",
            " resnet50 (Functional)       (None, 3, 3, 2048)        23587712  \n",
            "                                                                 \n",
            " global_average_pooling2d (G  (None, 2048)             0         \n",
            " lobalAveragePooling2D)                                          \n",
            "                                                                 \n",
            " dense (Dense)               (None, 29)                59421     \n",
            "                                                                 \n",
            "=================================================================\n",
            "Total params: 23,647,133\n",
            "Trainable params: 59,421\n",
            "Non-trainable params: 23,587,712\n",
            "_________________________________________________________________\n"
          ]
        }
      ]
    },
    {
      "cell_type": "code",
      "source": [
        "file_path=\"/content/best_model.h5\"\n",
        "\n",
        "# checkpoint = ModelCheckpoint(file_path, monitor='acc', verbose=1, save_best_only=True, mode='max')\n",
        "mc = ModelCheckpoint(file_path, monitor='val_loss', verbose=1, mode='min', save_best_only=True)\n",
        "\n",
        "# early = EarlyStopping(monitor=\"acc\", mode=\"max\", patience=15)\n",
        "es = EarlyStopping(monitor='val_loss', mode='min', verbose=1, patience=10)\n",
        "\n",
        "callbacks_list = [es, mc] #early\n",
        "\n",
        "model.fit(x=X_train,\n",
        "          y=y_cat_train,\n",
        "          validation_data=(X_val, y_cat_val),\n",
        "          batch_size=32,\n",
        "          epochs=30, \n",
        "          shuffle=True, \n",
        "          verbose=2,\n",
        "          callbacks=callbacks_list)\n",
        "\n"
      ],
      "metadata": {
        "colab": {
          "base_uri": "https://localhost:8080/"
        },
        "id": "lcJfSR2lrMb8",
        "outputId": "7df7a49e-b565-4509-cc88-b40b8337ca78"
      },
      "execution_count": null,
      "outputs": [
        {
          "output_type": "stream",
          "name": "stdout",
          "text": [
            "Epoch 1/30\n",
            "\n",
            "Epoch 1: val_loss improved from inf to 2.90273, saving model to /content/best_model.h5\n",
            "1632/1632 - 47s - loss: 3.0716 - accuracy: 0.1427 - val_loss: 2.9027 - val_accuracy: 0.1658 - 47s/epoch - 29ms/step\n",
            "Epoch 2/30\n",
            "\n",
            "Epoch 2: val_loss improved from 2.90273 to 2.59283, saving model to /content/best_model.h5\n",
            "1632/1632 - 39s - loss: 2.7688 - accuracy: 0.2063 - val_loss: 2.5928 - val_accuracy: 0.2533 - 39s/epoch - 24ms/step\n",
            "Epoch 3/30\n",
            "\n",
            "Epoch 3: val_loss improved from 2.59283 to 2.47309, saving model to /content/best_model.h5\n",
            "1632/1632 - 39s - loss: 2.6444 - accuracy: 0.2361 - val_loss: 2.4731 - val_accuracy: 0.2830 - 39s/epoch - 24ms/step\n",
            "Epoch 4/30\n",
            "\n",
            "Epoch 4: val_loss improved from 2.47309 to 2.33398, saving model to /content/best_model.h5\n",
            "1632/1632 - 39s - loss: 2.5564 - accuracy: 0.2580 - val_loss: 2.3340 - val_accuracy: 0.2906 - 39s/epoch - 24ms/step\n",
            "Epoch 5/30\n",
            "\n",
            "Epoch 5: val_loss improved from 2.33398 to 2.32086, saving model to /content/best_model.h5\n",
            "1632/1632 - 39s - loss: 2.4927 - accuracy: 0.2731 - val_loss: 2.3209 - val_accuracy: 0.3022 - 39s/epoch - 24ms/step\n",
            "Epoch 6/30\n",
            "\n",
            "Epoch 6: val_loss improved from 2.32086 to 2.31015, saving model to /content/best_model.h5\n",
            "1632/1632 - 39s - loss: 2.4397 - accuracy: 0.2868 - val_loss: 2.3101 - val_accuracy: 0.3323 - 39s/epoch - 24ms/step\n",
            "Epoch 7/30\n",
            "\n",
            "Epoch 7: val_loss did not improve from 2.31015\n",
            "1632/1632 - 39s - loss: 2.4007 - accuracy: 0.2999 - val_loss: 2.3563 - val_accuracy: 0.3011 - 39s/epoch - 24ms/step\n",
            "Epoch 8/30\n",
            "\n",
            "Epoch 8: val_loss improved from 2.31015 to 2.28331, saving model to /content/best_model.h5\n",
            "1632/1632 - 39s - loss: 2.3787 - accuracy: 0.3053 - val_loss: 2.2833 - val_accuracy: 0.3311 - 39s/epoch - 24ms/step\n",
            "Epoch 9/30\n",
            "\n",
            "Epoch 9: val_loss improved from 2.28331 to 2.16734, saving model to /content/best_model.h5\n",
            "1632/1632 - 39s - loss: 2.3404 - accuracy: 0.3142 - val_loss: 2.1673 - val_accuracy: 0.3620 - 39s/epoch - 24ms/step\n",
            "Epoch 10/30\n",
            "\n",
            "Epoch 10: val_loss did not improve from 2.16734\n",
            "1632/1632 - 39s - loss: 2.3189 - accuracy: 0.3212 - val_loss: 2.2942 - val_accuracy: 0.3232 - 39s/epoch - 24ms/step\n",
            "Epoch 11/30\n",
            "\n",
            "Epoch 11: val_loss improved from 2.16734 to 2.08344, saving model to /content/best_model.h5\n",
            "1632/1632 - 39s - loss: 2.2899 - accuracy: 0.3256 - val_loss: 2.0834 - val_accuracy: 0.3811 - 39s/epoch - 24ms/step\n",
            "Epoch 12/30\n",
            "\n",
            "Epoch 12: val_loss did not improve from 2.08344\n",
            "1632/1632 - 39s - loss: 2.2702 - accuracy: 0.3335 - val_loss: 2.1390 - val_accuracy: 0.3560 - 39s/epoch - 24ms/step\n",
            "Epoch 13/30\n",
            "\n",
            "Epoch 13: val_loss did not improve from 2.08344\n",
            "1632/1632 - 39s - loss: 2.2407 - accuracy: 0.3387 - val_loss: 2.1476 - val_accuracy: 0.3621 - 39s/epoch - 24ms/step\n",
            "Epoch 14/30\n",
            "\n",
            "Epoch 14: val_loss did not improve from 2.08344\n",
            "1632/1632 - 39s - loss: 2.2235 - accuracy: 0.3454 - val_loss: 2.1734 - val_accuracy: 0.3423 - 39s/epoch - 24ms/step\n",
            "Epoch 15/30\n",
            "\n",
            "Epoch 15: val_loss improved from 2.08344 to 2.06227, saving model to /content/best_model.h5\n",
            "1632/1632 - 39s - loss: 2.2162 - accuracy: 0.3470 - val_loss: 2.0623 - val_accuracy: 0.3856 - 39s/epoch - 24ms/step\n",
            "Epoch 16/30\n",
            "\n",
            "Epoch 16: val_loss improved from 2.06227 to 1.97907, saving model to /content/best_model.h5\n",
            "1632/1632 - 39s - loss: 2.1927 - accuracy: 0.3531 - val_loss: 1.9791 - val_accuracy: 0.3985 - 39s/epoch - 24ms/step\n",
            "Epoch 17/30\n",
            "\n",
            "Epoch 17: val_loss did not improve from 1.97907\n",
            "1632/1632 - 39s - loss: 2.1703 - accuracy: 0.3572 - val_loss: 2.0198 - val_accuracy: 0.3930 - 39s/epoch - 24ms/step\n",
            "Epoch 18/30\n",
            "\n",
            "Epoch 18: val_loss did not improve from 1.97907\n",
            "1632/1632 - 39s - loss: 2.1701 - accuracy: 0.3599 - val_loss: 2.0377 - val_accuracy: 0.3903 - 39s/epoch - 24ms/step\n",
            "Epoch 19/30\n",
            "\n",
            "Epoch 19: val_loss improved from 1.97907 to 1.97673, saving model to /content/best_model.h5\n",
            "1632/1632 - 39s - loss: 2.1547 - accuracy: 0.3630 - val_loss: 1.9767 - val_accuracy: 0.4092 - 39s/epoch - 24ms/step\n",
            "Epoch 20/30\n",
            "\n",
            "Epoch 20: val_loss did not improve from 1.97673\n",
            "1632/1632 - 39s - loss: 2.1398 - accuracy: 0.3678 - val_loss: 2.1134 - val_accuracy: 0.3559 - 39s/epoch - 24ms/step\n",
            "Epoch 21/30\n",
            "\n",
            "Epoch 21: val_loss did not improve from 1.97673\n",
            "1632/1632 - 39s - loss: 2.1231 - accuracy: 0.3684 - val_loss: 2.0436 - val_accuracy: 0.3858 - 39s/epoch - 24ms/step\n",
            "Epoch 22/30\n",
            "\n",
            "Epoch 22: val_loss did not improve from 1.97673\n",
            "1632/1632 - 39s - loss: 2.1256 - accuracy: 0.3695 - val_loss: 2.0135 - val_accuracy: 0.3894 - 39s/epoch - 24ms/step\n",
            "Epoch 23/30\n",
            "\n",
            "Epoch 23: val_loss did not improve from 1.97673\n",
            "1632/1632 - 39s - loss: 2.1161 - accuracy: 0.3740 - val_loss: 1.9971 - val_accuracy: 0.4132 - 39s/epoch - 24ms/step\n",
            "Epoch 24/30\n",
            "\n",
            "Epoch 24: val_loss improved from 1.97673 to 1.95279, saving model to /content/best_model.h5\n",
            "1632/1632 - 39s - loss: 2.1029 - accuracy: 0.3779 - val_loss: 1.9528 - val_accuracy: 0.4086 - 39s/epoch - 24ms/step\n",
            "Epoch 25/30\n",
            "\n",
            "Epoch 25: val_loss improved from 1.95279 to 1.90770, saving model to /content/best_model.h5\n",
            "1632/1632 - 39s - loss: 2.0967 - accuracy: 0.3787 - val_loss: 1.9077 - val_accuracy: 0.4172 - 39s/epoch - 24ms/step\n",
            "Epoch 26/30\n",
            "\n",
            "Epoch 26: val_loss did not improve from 1.90770\n",
            "1632/1632 - 39s - loss: 2.0802 - accuracy: 0.3820 - val_loss: 1.9420 - val_accuracy: 0.4132 - 39s/epoch - 24ms/step\n",
            "Epoch 27/30\n",
            "\n",
            "Epoch 27: val_loss did not improve from 1.90770\n",
            "1632/1632 - 39s - loss: 2.0832 - accuracy: 0.3824 - val_loss: 2.0104 - val_accuracy: 0.4099 - 39s/epoch - 24ms/step\n",
            "Epoch 28/30\n",
            "\n",
            "Epoch 28: val_loss improved from 1.90770 to 1.89573, saving model to /content/best_model.h5\n",
            "1632/1632 - 39s - loss: 2.0672 - accuracy: 0.3868 - val_loss: 1.8957 - val_accuracy: 0.4408 - 39s/epoch - 24ms/step\n",
            "Epoch 29/30\n",
            "\n",
            "Epoch 29: val_loss did not improve from 1.89573\n",
            "1632/1632 - 39s - loss: 2.0560 - accuracy: 0.3874 - val_loss: 1.9229 - val_accuracy: 0.4249 - 39s/epoch - 24ms/step\n",
            "Epoch 30/30\n",
            "\n",
            "Epoch 30: val_loss did not improve from 1.89573\n",
            "1632/1632 - 39s - loss: 2.0587 - accuracy: 0.3900 - val_loss: 1.9336 - val_accuracy: 0.4174 - 39s/epoch - 24ms/step\n"
          ]
        },
        {
          "output_type": "execute_result",
          "data": {
            "text/plain": [
              "<keras.callbacks.History at 0x7fea945e2f50>"
            ]
          },
          "metadata": {},
          "execution_count": 16
        }
      ]
    },
    {
      "cell_type": "code",
      "source": [
        "score = model.evaluate(x = X_test, y = y_cat_test, verbose = 1)\n",
        "print('Accuracy for test images:', round(score[1]*100, 3), '%')"
      ],
      "metadata": {
        "id": "WhFxQwtWe5Ci",
        "colab": {
          "base_uri": "https://localhost:8080/"
        },
        "outputId": "6d3115e3-83bd-4e11-d011-b29a38efd575"
      },
      "execution_count": null,
      "outputs": [
        {
          "output_type": "stream",
          "name": "stdout",
          "text": [
            "544/544 [==============================] - 10s 18ms/step - loss: 1.9363 - accuracy: 0.4197\n",
            "Accuracy for test images: 41.971 %\n"
          ]
        }
      ]
    },
    {
      "cell_type": "markdown",
      "source": [
        "## Fine-Tuning!"
      ],
      "metadata": {
        "id": "0ew-cfvzhgmv"
      }
    },
    {
      "cell_type": "code",
      "source": [
        "file_path=\"/content/best_model.h5\"\n",
        "model = tf.keras.models.load_model(file_path, compile=False)"
      ],
      "metadata": {
        "id": "NNdavJ8Pp8hp"
      },
      "execution_count": null,
      "outputs": []
    },
    {
      "cell_type": "code",
      "source": [
        "model.layers[2].trainable = True\n",
        "model.summary()"
      ],
      "metadata": {
        "id": "yYusEIjpfVjt",
        "colab": {
          "base_uri": "https://localhost:8080/"
        },
        "outputId": "f5ed6d2c-8035-4d5a-c19c-b3803182911d"
      },
      "execution_count": null,
      "outputs": [
        {
          "output_type": "stream",
          "name": "stdout",
          "text": [
            "Model: \"model\"\n",
            "_________________________________________________________________\n",
            " Layer (type)                Output Shape              Param #   \n",
            "=================================================================\n",
            " input_2 (InputLayer)        [(None, 76, 76, 3)]       0         \n",
            "                                                                 \n",
            " sequential (Sequential)     (None, 76, 76, 3)         0         \n",
            "                                                                 \n",
            " resnet50 (Functional)       (None, 3, 3, 2048)        23587712  \n",
            "                                                                 \n",
            " global_average_pooling2d (G  (None, 2048)             0         \n",
            " lobalAveragePooling2D)                                          \n",
            "                                                                 \n",
            " dense (Dense)               (None, 29)                59421     \n",
            "                                                                 \n",
            "=================================================================\n",
            "Total params: 23,647,133\n",
            "Trainable params: 23,594,013\n",
            "Non-trainable params: 53,120\n",
            "_________________________________________________________________\n"
          ]
        }
      ]
    },
    {
      "cell_type": "code",
      "source": [
        "model.compile(\n",
        "    optimizer=keras.optimizers.Adam(1e-5),  # Low learning rate\n",
        "    loss='categorical_crossentropy',\n",
        "    metrics=['accuracy'],\n",
        ")"
      ],
      "metadata": {
        "id": "Vxr0oW5-g9JU"
      },
      "execution_count": null,
      "outputs": []
    },
    {
      "cell_type": "code",
      "source": [
        "score = model.evaluate(x = X_test, y = y_cat_test, verbose = 1)\n",
        "print('Pretrain make sure: Accuracy for test images:', round(score[1]*100, 3), '%')"
      ],
      "metadata": {
        "id": "dOeCRJJ4nCax",
        "colab": {
          "base_uri": "https://localhost:8080/"
        },
        "outputId": "ed8c2389-8b14-44c8-cf15-ff7320ace582"
      },
      "execution_count": null,
      "outputs": [
        {
          "output_type": "stream",
          "name": "stdout",
          "text": [
            "544/544 [==============================] - 11s 18ms/step - loss: 1.8947 - accuracy: 0.4401\n",
            "Pretrain make sure: Accuracy for test images: 44.006 %\n"
          ]
        }
      ]
    },
    {
      "cell_type": "code",
      "source": [
        "model.fit(x=X_train,\n",
        "          y=y_cat_train,\n",
        "          validation_data=(X_val, y_cat_val),\n",
        "          batch_size=32,\n",
        "          epochs=10, \n",
        "          shuffle=True, \n",
        "          verbose=2,\n",
        "          callbacks=callbacks_list)"
      ],
      "metadata": {
        "id": "mar7kf1bjoIM",
        "colab": {
          "base_uri": "https://localhost:8080/"
        },
        "outputId": "129fee3e-e648-45d3-b485-04b6d1c1ed15"
      },
      "execution_count": null,
      "outputs": [
        {
          "output_type": "stream",
          "name": "stdout",
          "text": [
            "Epoch 1/10\n",
            "\n",
            "Epoch 1: val_loss improved from 1.89573 to 1.84247, saving model to /content/best_model.h5\n",
            "1632/1632 - 110s - loss: 2.7011 - accuracy: 0.2434 - val_loss: 1.8425 - val_accuracy: 0.4295 - 110s/epoch - 67ms/step\n",
            "Epoch 2/10\n",
            "\n",
            "Epoch 2: val_loss improved from 1.84247 to 1.58086, saving model to /content/best_model.h5\n",
            "1632/1632 - 102s - loss: 1.7490 - accuracy: 0.4609 - val_loss: 1.5809 - val_accuracy: 0.5219 - 102s/epoch - 62ms/step\n",
            "Epoch 3/10\n",
            "\n",
            "Epoch 3: val_loss improved from 1.58086 to 0.95009, saving model to /content/best_model.h5\n",
            "1632/1632 - 101s - loss: 1.2405 - accuracy: 0.6086 - val_loss: 0.9501 - val_accuracy: 0.6856 - 101s/epoch - 62ms/step\n",
            "Epoch 4/10\n",
            "\n",
            "Epoch 4: val_loss improved from 0.95009 to 0.65394, saving model to /content/best_model.h5\n",
            "1632/1632 - 101s - loss: 0.8773 - accuracy: 0.7155 - val_loss: 0.6539 - val_accuracy: 0.7798 - 101s/epoch - 62ms/step\n",
            "Epoch 5/10\n",
            "\n",
            "Epoch 5: val_loss improved from 0.65394 to 0.62468, saving model to /content/best_model.h5\n",
            "1632/1632 - 101s - loss: 0.6546 - accuracy: 0.7833 - val_loss: 0.6247 - val_accuracy: 0.7866 - 101s/epoch - 62ms/step\n",
            "Epoch 6/10\n",
            "\n",
            "Epoch 6: val_loss improved from 0.62468 to 0.38224, saving model to /content/best_model.h5\n",
            "1632/1632 - 101s - loss: 0.5109 - accuracy: 0.8323 - val_loss: 0.3822 - val_accuracy: 0.8702 - 101s/epoch - 62ms/step\n",
            "Epoch 7/10\n",
            "\n",
            "Epoch 7: val_loss improved from 0.38224 to 0.34477, saving model to /content/best_model.h5\n",
            "1632/1632 - 101s - loss: 0.4061 - accuracy: 0.8624 - val_loss: 0.3448 - val_accuracy: 0.8872 - 101s/epoch - 62ms/step\n",
            "Epoch 8/10\n",
            "\n",
            "Epoch 8: val_loss improved from 0.34477 to 0.34048, saving model to /content/best_model.h5\n",
            "1632/1632 - 101s - loss: 0.3343 - accuracy: 0.8900 - val_loss: 0.3405 - val_accuracy: 0.8899 - 101s/epoch - 62ms/step\n",
            "Epoch 9/10\n",
            "\n",
            "Epoch 9: val_loss improved from 0.34048 to 0.22941, saving model to /content/best_model.h5\n",
            "1632/1632 - 102s - loss: 0.2732 - accuracy: 0.9074 - val_loss: 0.2294 - val_accuracy: 0.9194 - 102s/epoch - 62ms/step\n",
            "Epoch 10/10\n",
            "\n",
            "Epoch 10: val_loss improved from 0.22941 to 0.15836, saving model to /content/best_model.h5\n",
            "1632/1632 - 102s - loss: 0.2344 - accuracy: 0.9215 - val_loss: 0.1584 - val_accuracy: 0.9456 - 102s/epoch - 63ms/step\n"
          ]
        },
        {
          "output_type": "execute_result",
          "data": {
            "text/plain": [
              "<keras.callbacks.History at 0x7fe9619b3d50>"
            ]
          },
          "metadata": {},
          "execution_count": 22
        }
      ]
    },
    {
      "cell_type": "code",
      "source": [
        "resnet_ft = [1.8425, 1.5809, 0.9501, 0.6539, 0.6247, 0.3822, ]"
      ],
      "metadata": {
        "id": "by8TxWIdzLYI"
      },
      "execution_count": null,
      "outputs": []
    },
    {
      "cell_type": "code",
      "source": [
        "score = model.evaluate(x = X_test, y = y_cat_test, verbose = 1)\n",
        "print('Accuracy for test images:', round(score[1]*100, 3), '%')"
      ],
      "metadata": {
        "id": "rbaBI5aXmCSZ",
        "colab": {
          "base_uri": "https://localhost:8080/"
        },
        "outputId": "efff08ce-8011-4e56-af16-38534cc9a570"
      },
      "execution_count": null,
      "outputs": [
        {
          "output_type": "stream",
          "name": "stdout",
          "text": [
            "544/544 [==============================] - 10s 17ms/step - loss: 0.1644 - accuracy: 0.9403\n",
            "Accuracy for test images: 94.034 %\n"
          ]
        }
      ]
    }
  ]
}